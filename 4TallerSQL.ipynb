{
  "cells": [
    {
      "cell_type": "markdown",
      "metadata": {
        "id": "view-in-github",
        "colab_type": "text"
      },
      "source": [
        "<a href=\"https://colab.research.google.com/github/miemguri/Talentotech2024/blob/main/4TallerSQL.ipynb\" target=\"_parent\"><img src=\"https://colab.research.google.com/assets/colab-badge.svg\" alt=\"Open In Colab\"/></a>"
      ]
    },
    {
      "cell_type": "markdown",
      "metadata": {
        "id": "2B4qdfpdRHSo"
      },
      "source": [
        "#TALLER SQL"
      ]
    },
    {
      "cell_type": "markdown",
      "metadata": {
        "id": "RqJVxhJlvJPf"
      },
      "source": [
        "INTRODUCCIÓN\n",
        "Usaré este notebook https://www.kaggle.com/code/gustavojaramillo/data-analysis-using-sql-espa-ol para proporcionar una guia practica de introducción a SQL, lenguaje imprescindible para todo analista de datos.\n",
        "\n",
        "Los sistemas gestores de bases de datos interpretan consultas escritas en lenguaje SQL, y así es como interactuamos y obtenemos datos de las bases de datos y aplicaciones.\n",
        "\n",
        "SQL significa Structured Query Language (Lenguaje de consulta estructurado)\n",
        "SQL permite acceder y manipular bases de datos\n",
        "SQL es una herramienta simple para el análisis avanzado de datos\n",
        "SQL no se usa sólo para manipular datos, sino también para administrar la misma base de datos, crear y modificar el diseño de objetos de la base de datos, como tablas. El elemento de SQL que se usa para crear y modificar objetos de base de datos se denomina lenguaje de definición de datos (DDL). Este curso no trata DDL.\n",
        "\n",
        "En esta notebook veremos cómo trabajar/manipular tablas. Aprenderemos a usar SQL para interactuar con una base de datos de fútbol europeo y generar información interesante con sus datos.\n",
        "\n",
        "La base de datos utilizada se encuentra en https://www.kaggle.com/datasets/hugomathien/soccer/data\n",
        "\n",
        "1.1 Definiciones importantes\n",
        "Aunque SQL es un estándar ANSI/ISO, existen diferentes versiones del lenguaje SQL. Sin embargo, para cumplir con el estándar del American National Standards Institute (ANSI), todas las versiones deben soportar al menos los comandos principales (como SELECT, UPDATE, DELETE, INSERT, WHERE) de forma similar.\n",
        "\n",
        "En este caso, vamos a trabajar con SQLite que es una implementación específica. La mayoría de los lenguajes SQL comparten todas las capacidades de este notebook. Las diferencias suelen estar en el rendimiento y en las funcionalidades analíticas avanzadas (y a veces en los errores, por supuesto).\n",
        "\n",
        "1.2 ¿Qué es SQLite?\n",
        "SQLite es una biblioteca de software que proporciona un sistema de gestión de bases de datos relacionales que se puede utilizar en casi todos los lenguajes de programación, incluido Python.\n",
        "\n",
        "El lite en SQLite significa facilidad en términos de configuración, administración de la base de datos y recursos necesarios. Las siguientes son sus características más importantes: es autónomo, sin servidor y transaccional.\n",
        "\n",
        "Más información acerca de SQLite: https://www.sqlitetutorial.net/\n",
        "\n",
        "1.2.1 Configuraciones previas\n",
        "SQLite se puede utilizar en casi todos los lenguajes de programación, incluido Python. Esta notebook corre en Python, por lo que vamos a importar la librería de SQLite y otras que nos pueden ser de utilidad más adelante.\n",
        "\n",
        "Asimismo, crearemos la conexión con la BD y listaremos las tablas con las que contamos.\n",
        "\n",
        "Ejecuta (haciendo clic en ejecutar o Shift+Enter) el códido de abajo\n",
        "\n"
      ]
    },
    {
      "cell_type": "markdown",
      "metadata": {
        "id": "bodiEbwpPD1p"
      },
      "source": [
        "#Taller SQL\n",
        "En este taller  vamos a analizar UnicodeError dataset  de la liga europea de futbol"
      ]
    },
    {
      "cell_type": "code",
      "execution_count": null,
      "metadata": {
        "id": "YGIifxRmQHiO"
      },
      "outputs": [],
      "source": [
        "# Importacion de librerías\n",
        "import pandas as pd\n",
        "import sqlite3 # SQLite"
      ]
    },
    {
      "cell_type": "code",
      "execution_count": null,
      "metadata": {
        "id": "Wa7qIAvUYcPU"
      },
      "outputs": [],
      "source": [
        "#lectura\n",
        "from google.colab import drive\n",
        "drive.mount('/content/drive')"
      ]
    },
    {
      "cell_type": "code",
      "execution_count": null,
      "metadata": {
        "id": "6_wYqEKbUe_6"
      },
      "outputs": [],
      "source": [
        "# Los datos de entrada están disponibles en el directorio \"Drive\".\n",
        "path = '/content/drive/MyDrive/Colab Notebooks/data/db/'\n",
        "database = path + 'database.sqlite'"
      ]
    },
    {
      "cell_type": "code",
      "execution_count": null,
      "metadata": {
        "id": "7fpEwDNaYx0z"
      },
      "outputs": [],
      "source": [
        "# Creamos la conexión con la BD\n",
        "conn = sqlite3.connect(database)\n",
        "print (\"Conexión exitosa\")"
      ]
    },
    {
      "cell_type": "code",
      "execution_count": null,
      "metadata": {
        "id": "monyUlHScw3d"
      },
      "outputs": [],
      "source": [
        "print(database)"
      ]
    },
    {
      "cell_type": "markdown",
      "metadata": {
        "id": "7lNbAQFmvWpv"
      },
      "source": [
        "2. Sentencia SELECT\n",
        "Esta es la consulta más básica y su estructura es muy simple:\n",
        "\n",
        "Se define lo que se quiere ver después del SELECT\n",
        "Se eligen las tablas a consultar después del FROM\n",
        "Las únicas partes imprescindibles de una consulta son el SELECT y el FROM.\n",
        "\n",
        "La sintaxis de esta consulta es así:\n",
        "\n",
        "SELECT column1, column2, ...\n",
        "\n",
        "FROM table_name;\n",
        "\n",
        "Para consultar por todos los campos en una tabla sin tener que escribir uno por uno el nombre de cada campo, se utiliza SELECT *\n",
        "\n",
        "SELECT * significa que quieres obtener todas las columnas posibles de la tabla consultada. Los datos devueltos se almacenan en una tabla de resultados, denominada conjunto de resultados.\n",
        "\n",
        "La sintaxis de esta consulta es así:\n",
        "\n",
        "SELECT *\n",
        "\n",
        "FROM table_name;\n",
        "\n",
        "Es una buena práctica terminar la consulta con un punto y coma para indicar que la consulta está completa. Las palabras clave se escriben en mayúsculas y los nombres de tablas y campos se escriben en minúsculas."
      ]
    },
    {
      "cell_type": "code",
      "execution_count": null,
      "metadata": {
        "id": "jofqwPTwYsHU"
      },
      "outputs": [],
      "source": [
        "#listaremos las tablas con las que contamos:\n",
        "tables = pd.read_sql(\"\"\"SELECT *\n",
        "                        FROM sqlite_master\n",
        "                        WHERE type='table';\"\"\", conn)\n",
        "tables"
      ]
    },
    {
      "cell_type": "code",
      "execution_count": null,
      "metadata": {
        "id": "QxttalxX6wOV"
      },
      "outputs": [],
      "source": [
        "#Listar todos los partidos\n",
        "query = \"\"\"SELECT *\n",
        "            FROM Match; \"\"\"\n",
        "matchs = pd.read_sql(query, conn)\n",
        "matchs"
      ]
    },
    {
      "cell_type": "markdown",
      "metadata": {
        "id": "mUX11GSHkic6"
      },
      "source": [
        "2.1.1 Ejemplo: Listar los países\n",
        "\n",
        "Queremos consultar qué países se encuentran en la tabla Country de la base de datos del fútbol europeo.\n",
        "\n",
        "Importante: La estructura y el orden de las secciones son importantes, mientras que los espacios, las nuevas líneas, las mayúsculas y las sangrías están ahí para facilitar la lectura del código.\n",
        "\n",
        "Ejecuta (haciendo clic en ejecutar o Shift+Enter) el códido de abajo"
      ]
    },
    {
      "cell_type": "code",
      "execution_count": null,
      "metadata": {
        "id": "IX3pJ8l2dKVp"
      },
      "outputs": [],
      "source": [
        "#Listar los paises que se encuentran en la tabla Country de la base de datos del fútbol europeo.\n",
        "query = \"\"\"SELECT *\n",
        "            FROM Country; \"\"\"\n",
        "countries = pd.read_sql(query, conn)\n",
        "countries\n",
        "#11 paises se encuentran en la tabla country"
      ]
    },
    {
      "cell_type": "markdown",
      "metadata": {
        "id": "47w40O1CwDPp"
      },
      "source": [
        "2.1.2 Práctica: Listar las ligas del fútbol europeo\n",
        "\n",
        "Deben listar todas las ligas que estén en la tabla League de la base de datos de fútbol europeo.\n",
        "\n",
        "Para ello deberán escribir la consulta SQL entre un par de 3 comillas dobles: \"\"\"consulta SQL\"\"\" justo después de la palabra query =\n",
        "\n",
        "Una vez que estén lo tengan listo, ejecuten haciendo clic en ejecutar (o Shift+Enter) el códido de abajo"
      ]
    },
    {
      "cell_type": "code",
      "execution_count": null,
      "metadata": {
        "id": "N53rXoDxjw5y"
      },
      "outputs": [],
      "source": [
        "#Consultar todas las ligas del fútbol europeo.\n",
        "\n",
        "query = \"\"\"SELECT *\n",
        "            FROM league; \"\"\"\n",
        "\n",
        "leagues = pd.read_sql(query, conn)\n",
        "leagues\n",
        "#Son 11 ligas de futbol"
      ]
    },
    {
      "cell_type": "markdown",
      "metadata": {
        "id": "aO7Td8GVwaCe"
      },
      "source": [
        "2.1.3 Práctica: Listar los jugadores del fútbol europeo\n",
        "\n",
        "Deben listar los campos id,player_name, birthday, height y weight que estan en la tabla Player de la base de datos de Fútbol Europeo.\n",
        "\n",
        "Para ello deberán escribir la consulta SQL entre un par de 3 comillas dobles: \"\"\"consulta SQL\"\"\" después de la palabra query =\n",
        "\n",
        "Una vez que estén lo tengan listo, ejecuten (haciendo clic en ejecutar o Shift+Enter) el códido de abajo"
      ]
    },
    {
      "cell_type": "code",
      "execution_count": null,
      "metadata": {
        "id": "5faMBY4qhW3e"
      },
      "outputs": [],
      "source": [
        "query = \"\"\" SELECT id, player_name, birthday, height, weight\n",
        "            FROM player;\n",
        "            \"\"\"\n",
        "players = pd.read_sql(query,conn)\n",
        "players\n",
        "# Se observa el id, nombre, fecha de nacimiento, altura y peso de 11.059 jugadores,\n",
        "#incluyendo los nombres que no tienen un apellido"
      ]
    },
    {
      "cell_type": "code",
      "execution_count": null,
      "metadata": {
        "id": "2YzQmLNIMplD"
      },
      "outputs": [],
      "source": [
        "#Listar jugadores del fútbol europeo\n",
        "query = \"\"\" SELECT DISTINCT player_name\n",
        "              FROM player; \"\"\"\n",
        "players = pd.read_sql(query, conn)\n",
        "players\n",
        "#Son 10.848 nombres de los jugadores con valores unicos en la tabla player."
      ]
    },
    {
      "cell_type": "markdown",
      "metadata": {
        "id": "tVW3AmAGwz1m"
      },
      "source": [
        "2.2 Sentencia SELECT DISTINCT\n",
        "La sentencia SELECT DISTINCT se utiliza para devolver sólo valores distintos (diferentes).\n",
        "\n",
        "Dentro de una tabla, una columna a menudo contiene muchos valores duplicados y a veces sólo se desea listar los diferentes valores (distintos).\n",
        "\n",
        "La sintaxis de SELECT DISTINCT es así:    \n",
        "SELECT DISTINCT column1  \n",
        "FROM table_name;\n",
        "\n"
      ]
    },
    {
      "cell_type": "markdown",
      "metadata": {
        "id": "-tshsXc-8FV1"
      },
      "source": [
        "2.2.1 Ejemplo: Listar las temporadas jugadas de esta Base de Datos\n",
        "\n",
        "Si consultamos por todas las temporadas que se almacenaron en la tabla Matchde la base de datos de Fútbol Europeo, vamos a tener el siguiente resultado.\n",
        "\n",
        "Ejecuta (haciendo clic en ejecutar o Shift+Enter) el códido de abajo"
      ]
    },
    {
      "cell_type": "markdown",
      "metadata": {
        "id": "hnkMr9Of8l4A"
      },
      "source": [
        "Con el resultado anterior, es muy difícil responder a la pregunta ¿Cuáles son las temporadas almacenadas en esta base de datos? Para responderla sin mucho esfuerzo, usamos SELECT DISTINCT para consultar la tabla Match de la base de datos.\n",
        "\n",
        "Ejecuta (haciendo clic en ejecutar o Shift+Enter) el códido de abajo"
      ]
    },
    {
      "cell_type": "code",
      "execution_count": null,
      "metadata": {
        "id": "s5DTqNGTxbWv"
      },
      "outputs": [],
      "source": [
        "query = \"\"\" SELECT DISTINCT season\n",
        "            FROM Match; \"\"\"\n",
        "seasons = pd.read_sql(query, conn)\n",
        "seasons\n",
        "#las distintas temporadas son 8 comprendidas entre los años 2008 y 2016"
      ]
    },
    {
      "cell_type": "code",
      "execution_count": null,
      "metadata": {
        "id": "CGdk-mDRnrWY"
      },
      "outputs": [],
      "source": [
        " # CONTAR temporadas de los partidos\n",
        "query = \"\"\" SELECT COUNT(season)\n",
        "            FROM Match; \"\"\"\n",
        "seasons = pd.read_sql(query, conn)\n",
        "seasons\n",
        "# En total son 25.979 temporadas de juego"
      ]
    },
    {
      "cell_type": "code",
      "execution_count": null,
      "metadata": {
        "id": "xEoMSBEax3jc"
      },
      "outputs": [],
      "source": [
        " # Listar temporadas de los partidos\n",
        "query = \"\"\" SELECT season\n",
        "            FROM Match; \"\"\"\n",
        "seasons = pd.read_sql(query, conn)\n",
        "seasons"
      ]
    },
    {
      "cell_type": "markdown",
      "metadata": {
        "id": "NV6I6kamFBNA"
      },
      "source": [
        "2.2.2 Práctica:\n",
        "\n",
        "Listar sólo tasas diferentes de valoración general de los jugadores.\n",
        "\n",
        "En la tabla Player_Attributes de la base de datos de Fútbol Europeo hay el campo overall_rating que parece contener la valoración de los jugadores. El objetivo es ver sólo tasas diferentes de valoración general de los jugadores.\n",
        "\n",
        "Para ello deberán escribir la consulta SQL entre un par de 3 comillas dobles: \"\"\"consulta SQL\"\"\" después de la palabra query =\n",
        "\n",
        "Una vez que estén lo tengan listo, ejecuten (haciendo clic en ejecutar o Shift+Enter) el códido de abajo"
      ]
    },
    {
      "cell_type": "code",
      "execution_count": null,
      "metadata": {
        "id": "5KkAgML2FaVX"
      },
      "outputs": [],
      "source": [
        "query = \"\"\" SELECT DISTINCT overall_rating\n",
        "FROM player_attributes; \"\"\"\n",
        "overall_rating = pd.read_sql(query,conn)\n",
        "overall_rating\n",
        "# Tasas diferentes de valoración general de los jugadores"
      ]
    },
    {
      "cell_type": "code",
      "execution_count": null,
      "metadata": {
        "id": "yNz0XTZBG5SG"
      },
      "outputs": [],
      "source": [
        "# Campo overall_rating contiene la valoración de la totalidad de jugadores\n",
        "query = \"\"\" SELECT id, overall_rating\n",
        "FROM player_attributes; \"\"\"\n",
        "overall_rating = pd.read_sql(query,conn)\n",
        "overall_rating\n",
        "# se observa la valoracion de todos los jugadores por id y clasificacion"
      ]
    },
    {
      "cell_type": "markdown",
      "metadata": {
        "id": "d5HnpqgvK9ef"
      },
      "source": [
        "3. Sentencia LIMIT\n",
        "Cuando deseamos poner un límite al resultado o no nos interesa conocer la totalidad de los resultados, podemos limitar la cantidad de registros resultantes mediante la sentencia LIMIT\n",
        "\n",
        "La sintaxis de LIMIT es así:\n",
        "\n",
        "SELECT column1, column2...\n",
        "\n",
        "FROM table_name\n",
        "\n",
        "LIMIT number;"
      ]
    },
    {
      "cell_type": "markdown",
      "metadata": {
        "id": "cF6t-iW3K1ZT"
      },
      "source": []
    },
    {
      "cell_type": "markdown",
      "metadata": {
        "id": "T9ilvWoRzBti"
      },
      "source": [
        "3.1.1 Ejemplo:\n",
        "\n",
        "Listar 15 jugadores de la base de datos del fútbol europeo¶\n",
        "\n",
        "Queremos listar 15 jugadores de la tabla Player de la base de datos de Fútbol Europeo. En la tabla de resultados quiero ver los campos ìd,player_name, birthday, height y weight. Todos se encuentran en la tabla Player\n",
        "\n",
        "Ejecuta (haciendo clic en ejecutar o Shift+Enter) el códido de abajo"
      ]
    },
    {
      "cell_type": "code",
      "execution_count": null,
      "metadata": {
        "id": "wFaionAg2WqT"
      },
      "outputs": [],
      "source": [
        "query = \"\"\" SELECT id, player_name, birthday, height, weight\n",
        "            FROM player\n",
        "            LIMIT 15; \"\"\"\n",
        "players = pd.read_sql(query,conn)\n",
        "players\n",
        "# Se puede observar el id, nombre,fecha de nacimiento, altura y peso de 15 jugadores."
      ]
    },
    {
      "cell_type": "markdown",
      "metadata": {
        "id": "px5JGwzmNIFG"
      },
      "source": [
        "3.1.2 Práctica:\n",
        "\n",
        "Deben listar 25 equipos del fútbol europeo. La tabla de resultados deberá contener los campos id y team_long_name de la tabla Team de la base de datos de Fútbol Europeo.\n",
        "\n",
        "Para ello deberán escribir la consulta SQL entre un par de 3 comillas dobles: \"\"\"consulta SQL\"\"\" después de la palabra query =\n",
        "\n",
        "Una vez que estén lo tengan listo, ejecuten (haciendo clic en ejecutar o Shift+Enter) el códido de abajo"
      ]
    },
    {
      "cell_type": "code",
      "execution_count": null,
      "metadata": {
        "id": "KmSl4tDgNsMi"
      },
      "outputs": [],
      "source": [
        "# SELECT column1, column2, ...FROM table_name;\n",
        "query = \"\"\" SELECT id, team_long_name\n",
        "            FROM team LIMIT 25; \"\"\"\n",
        "\n",
        "teams = pd.read_sql(query, conn)\n",
        "teams\n",
        "# Se observa el id y nombre de 25 equipos de futbol"
      ]
    },
    {
      "cell_type": "code",
      "execution_count": null,
      "metadata": {
        "id": "JH4s5aNvRuxi"
      },
      "outputs": [],
      "source": [
        "# SELECT column1, column2, ...FROM table_name;\n",
        "query = \"\"\" SELECT *\n",
        "            FROM team; \"\"\"\n",
        "teams = pd.read_sql(query, conn)\n",
        "teams\n",
        "# Muestra el nombre de todos 298 equipos"
      ]
    },
    {
      "cell_type": "markdown",
      "metadata": {
        "id": "aAfc9-8ATKGw"
      },
      "source": [
        "4. Funciones agregativas/ Métricas\n",
        "\n",
        "Todas las métricas tienen que ser agregadas usando funciones. Las funciones agregativas más comunes son:\n",
        "\n",
        "SUM()| Sumatoria total de una columna tipo numérica.\n",
        "\n",
        "COUNT()| Devuelve la cantidad de filas.\n",
        "\n",
        "COUNT(DISTINCT)| Devuelve la cantidad de filas distintas o diferentes.\n",
        "\n",
        "AVG() | Promedia los valores de una columna tipo numérica.\n",
        "\n",
        "MIN() | Menor valor dentro de la columna especificada.\n",
        "\n",
        "MAX() | Mayor valor dentro de la columna especificada.\n",
        "\n",
        "La sintaxis de las métricas en la sentencia SELECT es así:\n",
        "\n",
        "SUM()\n",
        "\n",
        "SELECT SUM(column1), column2...\n",
        "FROM table_name\n",
        "\n",
        "COUNT()\n",
        "\n",
        "SELECT COUNT(column1), column2...\n",
        "FROM table_name\n",
        "\n",
        "COUNT(DISTINCT)\n",
        "\n",
        "SELECT COUNT(DISTINCT column1), column2...\n",
        "FROM table_name\n",
        "\n",
        "AVG()\n",
        "\n",
        "SELECT AVG(column1), column2...\n",
        "\n",
        "FROM table_name\n",
        "\n",
        "MIN()\n",
        "\n",
        "SELECT MIN(column1), column2...\n",
        "\n",
        "FROM table_name\n",
        "\n",
        "MAX()\n",
        "\n",
        "SELECT MAX(column1), column2...\n",
        "\n",
        "FROM table_name"
      ]
    },
    {
      "cell_type": "markdown",
      "metadata": {
        "id": "f6gke2maTemj"
      },
      "source": [
        "4.1.1 Ejemplo:\n",
        "\n",
        "¿Cuántos países diferentes están almacenados en la tabla Country?\n",
        "Para consultar por el número de países diferentes almacenados en la tabla Country y que la tabla de resultados nos muestre únicamente el número con la cantidad de países, necesitamos usar una función agregativa que cuente el número de registros pero además, que cuente sólo los registros distintos. Esa función es COUNT(DISTINCT )\n",
        "\n",
        "Ejecuten (haciendo clic en ejecutar o Shift+Enter) el códido de abajo"
      ]
    },
    {
      "cell_type": "code",
      "execution_count": null,
      "metadata": {
        "id": "fdUbusBL_3rt"
      },
      "outputs": [],
      "source": [
        "query = \"\"\" SELECT COUNT(DISTINCT name)\n",
        "            FROM country; \"\"\"\n",
        "countries = pd.read_sql(query, conn)\n",
        "countries"
      ]
    },
    {
      "cell_type": "markdown",
      "metadata": {
        "id": "7O8GNcmkEaGa"
      },
      "source": [
        "4.1.2 Práctica:\n",
        "\n",
        "\n",
        "Deben traer el número de etapas stage almacenados en la tabla Match de la base de datos de Fútbol Europeo. La tabla de resultados deberá mostrar únicamente el número con la cantidad de etapas diferentes.\n",
        "\n",
        "Para ello deberán escribir la consulta SQL entre un par de 3 comillas dobles: \"\"\"consulta SQL\"\"\" después de la palabra query =\n",
        "\n",
        "Una vez que estén lo tengan listo, ejecuten (haciendo clic en ejecutar o Shift+Enter) el códido de abajo"
      ]
    },
    {
      "cell_type": "code",
      "execution_count": null,
      "metadata": {
        "id": "pTZMxckYEktw"
      },
      "outputs": [],
      "source": [
        "#Traer el número de etapas jugadas de la tabla Match\n",
        "query = \"\"\" SELECT COUNT(DISTINCT stage) AS conteo_temporadas\n",
        "        FROM match; \"\"\"\n",
        "stages = pd.read_sql(query, conn)\n",
        "stages\n",
        "# En todas las ligas europeas em el periodo de tiempo entre 2008 al 2016 se jugaron 38 temporadas"
      ]
    },
    {
      "cell_type": "code",
      "execution_count": null,
      "metadata": {
        "id": "jSgcdjhiTfaK"
      },
      "outputs": [],
      "source": []
    },
    {
      "cell_type": "markdown",
      "metadata": {
        "id": "7hJ9ubLEHRIl"
      },
      "source": [
        "4.1.3 Práctica:\n",
        "\n",
        "Traer la suma de goles hechos por los equipos visitantes de la tabla Match\n",
        "\n",
        "Deben traer la suma de goles hechos por los equipos visitantes away_team_goal almacenados en la tabla Match de la base de datos de Fútbol Europeo. La tabla de resultados deberá mostrar únicamente el número con la suma de goles.\n",
        "\n",
        "Para ello deberán escribir la consulta SQL entre un par de 3 comillas dobles: \"\"\"consulta SQL\"\"\" después de la palabra query =\n",
        "\n",
        "Una vez que estén lo tengan listo, ejecuten (haciendo clic en ejecutar o Shift+Enter) el códido de abajo"
      ]
    },
    {
      "cell_type": "code",
      "execution_count": null,
      "metadata": {
        "id": "k0HYY-nzHiWU"
      },
      "outputs": [],
      "source": [
        "query = \"\"\"SELECT SUM(away_team_goal)\n",
        "            FROM match; \"\"\"\n",
        "sum_awayteam = pd.read_sql(query, conn)\n",
        "sum_awayteam\n",
        "#Los equipos visitantes hicieron un total de 30.160 goles"
      ]
    },
    {
      "cell_type": "markdown",
      "metadata": {
        "id": "yRvz4xjlPESk"
      },
      "source": [
        "Ejercicios personales otras funciones:\n"
      ]
    },
    {
      "cell_type": "code",
      "execution_count": null,
      "metadata": {
        "id": "VSzuYNPKQiWR"
      },
      "outputs": [],
      "source": [
        "#Mostrar las temporadas(seasons) 2015- 2016\n",
        "query = \"\"\" SELECT * FROM Match\n",
        "            WHERE stage = 1 AND SEASON ='2015/2016'; \"\"\"\n",
        "Matchs = pd.read_sql(query,conn)\n",
        "Matchs"
      ]
    },
    {
      "cell_type": "code",
      "execution_count": null,
      "metadata": {
        "id": "BbrYRHRS-IfP"
      },
      "outputs": [],
      "source": [
        "#Mostrar temporadas diferentes a 2015 y 2016\n",
        "query = \"\"\" SELECT * FROM Match\n",
        "            WHERE NOT season ='2015/2016'; \"\"\"\n",
        "Matchs = pd.read_sql(query,conn)\n",
        "Matchs"
      ]
    },
    {
      "cell_type": "code",
      "execution_count": null,
      "metadata": {
        "id": "s109B2fF3Kbi"
      },
      "outputs": [],
      "source": [
        "query = \"\"\" SELECT AVG (height) AS altura\n",
        "             FROM player; \"\"\"\n",
        "jugadores= pd.read_sql(query,conn)\n",
        "jugadores\n",
        "#la altura promedio es de 181.86"
      ]
    },
    {
      "cell_type": "markdown",
      "metadata": {
        "id": "9BbhheXDPk_P"
      },
      "source": [
        "4.1.4 Práctica:\n",
        "\n",
        "Traer el promedio de goles hechos por los equipos locales y el promedio de goles hechos por los visitantes de la tabla Match\n",
        "\n",
        "Deben traer el promedio de goles hechos por los equipos locales home_team_goal y el promedio de goles hechos por los equipos visitantes away_team_goal almacenados en la tabla Match de la base de datos de Fútbol Europeo. La tabla de resultados deberá mostrar únicamente el número con el promedio de goles.\n",
        "\n",
        "Para ello deberán escribir la consulta SQL entre un par de 3 comillas dobles: \"\"\"consulta SQL\"\"\" después de la palabra query =\n",
        "\n",
        "Una vez que estén lo tengan listo, ejecuten (haciendo clic en ejecutar o Shift+Enter) el códido de abajo\n",
        "\n"
      ]
    },
    {
      "cell_type": "markdown",
      "metadata": {
        "id": "v1c1n6m4G20w"
      },
      "source": []
    },
    {
      "cell_type": "markdown",
      "metadata": {
        "id": "xaPnVfF6p2Xa"
      },
      "source": [
        "4.1.5 Práctica: Traer la máxima cantidad de goles que un equipo visitante anotó en los juegos de la tabla Match\n",
        "\n",
        "Deben traer la máxima cantidad de goles un equipo visitante away_team_goal almacenados en la tabla Match de la base de datos de Fútbol Europeo. La tabla de resultados deberá mostrar únicamente el número con cantidad de goles.\n",
        "\n",
        "Para ello deberán escribir la consulta SQL entre un par de 3 comillas dobles: \"\"\"consulta SQL\"\"\" después de la palabra query =\n",
        "\n"
      ]
    },
    {
      "cell_type": "code",
      "execution_count": null,
      "metadata": {
        "id": "_XnHleyY8-Z2"
      },
      "outputs": [],
      "source": [
        "query = \"\"\" SELECT MAX(away_team_goal)AS MAX_goles_equipo_visitante\n",
        "           FROM match\"\"\"\n",
        "max_teamgoals = pd.read_sql(query,conn)\n",
        "max_teamgoals\n",
        "#La cantidad maxima de goles que un equipo visitante anoto fue 9 goles."
      ]
    },
    {
      "cell_type": "markdown",
      "metadata": {
        "id": "y3W4btSPINhi"
      },
      "source": [
        "5. Operaciones matemáticas\n",
        "\n",
        "Se pueden realizar operaciones matemáticas como: +, -, *, /, etc. Asimismo, estás operaciones pueden ser usadas en conjunto con las funciones agregativas/ métricas.\n",
        "\n",
        "La sintaxis en la sentencia SELECT es así:\n",
        "\n",
        "+\n",
        "SELECT column1+column2\n",
        "\n",
        "FROM table_name\n",
        "\n",
        "La sintaxis combinando con una métrica en la sentencia SELECT es así:\n",
        "\n",
        "AVG(+)\n",
        "SELECT AVG(column1+column2)\n",
        "\n",
        "FROM table_name\n",
        "\n",
        "5.1.1 Práctica: Traer el promedio de suma de goles por partido de la tabla Match\n",
        "Deben traer el promedio de la suma de goles hechos por los equipos locales home_team_goal y visitantes away_team_goal en todos los juegos almacenados en la tabla Match de la base de datos de Fútbol Europeo. La tabla de resultados deberá mostrar únicamente el número con el promedio de goles por partido.\n",
        "\n",
        "Para ello deberán escribir la consulta SQL entre un par de 3 comillas dobles: \"\"\"consulta SQL\"\"\" después de la palabra query =\n",
        "\n"
      ]
    },
    {
      "cell_type": "code",
      "execution_count": null,
      "metadata": {
        "id": "EfUVUTO5MOwb"
      },
      "outputs": [],
      "source": [
        "query = \"\"\"SELECT AVG(home_team_goal + away_team_goal) AS promedio_goles\n",
        "            FROM Match; \"\"\"\n",
        "prom_average_goals = pd.read_sql(query, conn)\n",
        "prom_average_goals\n",
        "# El numero promedio de goles por equipo fue de 2.70\n"
      ]
    },
    {
      "cell_type": "code",
      "execution_count": null,
      "metadata": {
        "id": "M04hS6JjI8rO"
      },
      "outputs": [],
      "source": [
        "query = \"\"\" SELECT SUM (home_team_goal), SUM (away_team_goal)\n",
        "             FROM match; \"\"\"\n",
        "prom_average_goals = pd.read_sql(query, conn)\n",
        "prom_average_goals\n"
      ]
    },
    {
      "cell_type": "markdown",
      "metadata": {
        "id": "BHmukfSA4ywk"
      },
      "source": [
        "6. Sentencia WHERE\n",
        "\n",
        "La sentencia WHERE se utiliza para filtrar registros. Mediante esta sentencia, se extraen sólo aquellos registros que cumplen una condición específica.\n",
        "\n",
        "La sintaxis de WHERE es así:\n",
        "\n",
        "SELECT column1, column2...\n",
        "\n",
        "FROM table_name\n",
        "\n",
        "WHERE condition;\n",
        "\n",
        "6.1 Campos de texto (y fecha) vs campos numéricos\n",
        "SQL requiere comillas simples alrededor de los valores del texto y fecha (la mayoría de los sistemas de bases de datos también permiten comillas dobles). Sin embargo, los campos numéricos no deben incluirse entre comillas.\n",
        "\n",
        "Ejemplos de sintaxis con campo númerico:\n",
        "\n",
        "SELECT *\n",
        "\n",
        "FROM Customers\n",
        "\n",
        "WHERE CustomerId = 1;\n",
        "\n",
        "Ejemplos de sintaxis con campo de texto:\n",
        "\n",
        "SELECT *\n",
        "\n",
        "FROM Customers\n",
        "\n",
        "WHERE Country = 'Mexico';\n",
        "\n",
        "6.2.1 Ejemplo: Listar los jugadores que pesan 165 libras\n",
        "Queremos listar a los jugadores que cumplan con la condición de pesar 165 libras. En la tabla de resultados quiero ver los campos id,player_name, birthday, height y weight de los que cumplen la condición. Todos se encuentran en la tabla Player\n",
        "\n",
        "Ejecuta (haciendo clic en ejecutar o Shift+Enter) el códido de abajo\n",
        "\n",
        "query = \"\"\"SELECT id, player_name, birthday, height, weight\n",
        "        FROM Player\n",
        "        WHERE weight = 165\n",
        "        LIMIT 15;\"\"\"\n",
        "\n",
        "players_weight = pd.read_sql(query, conn)\n",
        "players_weight\n",
        "\n"
      ]
    },
    {
      "cell_type": "code",
      "execution_count": null,
      "metadata": {
        "id": "FxmPlc93P8Q0"
      },
      "outputs": [],
      "source": [
        "query = \"\"\"SELECT id, player_name, birthday, height, weight\n",
        "            FROM Player WHERE weight = 165 LIMIT 15;\"\"\"\n",
        "\n",
        "players_weight = pd.read_sql(query, conn)\n",
        "players_weight"
      ]
    },
    {
      "cell_type": "markdown",
      "metadata": {
        "id": "UZTVBrx5QTbT"
      },
      "source": [
        "6.2.2 Práctica: Listar las temporadas en que un equipo visitante anotó 7 o más goles\n",
        "\n",
        "Deben listar las temporadas en que algún equipo visitante haya anotado 7 o más goles. La tabla de resultados deberá contener los campos season, home_team_goal, away_team_goal de la tabla Match de la base de datos de Fútbol Europeo.\n",
        "\n",
        "Para ello deberán escribir la consulta SQL entre un par de 3 comillas dobles: \"\"\"consulta SQL\"\"\" después de la palabra query =\n",
        "\n",
        "Una vez que estén lo tengan listo, ejecuten (haciendo clic en ejecutar o Shift+Enter) el códido de abajo"
      ]
    },
    {
      "cell_type": "code",
      "execution_count": null,
      "metadata": {
        "id": "N25OjQgKQeeM"
      },
      "outputs": [],
      "source": [
        "query = \"\"\"SELECT season, home_team_goal, away_team_goal\n",
        "            FROM match WHERE away_team_goal >= 7;\"\"\"\n",
        "away_team_goals = pd.read_sql(query, conn)\n",
        "away_team_goals"
      ]
    },
    {
      "cell_type": "markdown",
      "metadata": {
        "id": "V2ZPq13jNjOL"
      },
      "source": [
        "\n",
        "6.3 Operadores lógicos en WHERE\n",
        "La sentencia WHERE puede combinarse con los operadores lógicos: AND, OR y NOT. Los operadores AND y OR se utilizan para filtrar registros basados en más de una condición.\n",
        "\n",
        "El operador AND muestra un registro si todas las condiciones separadas por AND son VERDADERA(s).\n",
        "El operador OR muestra un registro si alguna de las condiciones separadas por OR es VERDADERA(s).\n",
        "El operador NOT muestra un registro si la(s) condición(es) NO es VERDADERA(s).\n",
        "\n",
        "Sintaxis de AND:\n",
        "\n",
        "SELECT column1, column2, ...\n",
        "\n",
        "FROM table_name\n",
        "\n",
        "WHERE condition1 AND condition2 AND condition3 ...;\n",
        "\n",
        "Sintaxis de OR\n",
        "\n",
        "SELECT column1, column2, ...\n",
        "\n",
        "FROM table_name\n",
        "\n",
        "WHERE condition1 OR condition2 ...;\n",
        "\n",
        "Sintaxis de NOT\n",
        "\n",
        "SELECT column1, column2, ...\n",
        "\n",
        "FROM table_name WHERE NOT condition;"
      ]
    },
    {
      "cell_type": "markdown",
      "metadata": {
        "id": "HvWC8HC8UmSc"
      },
      "source": [
        "6.3.1 Práctica: Traer el Id de los equipos que desarrollan un dribbling normal y su velocidad de juego es balanceada\n",
        "\n",
        "Tomando la tabla Team_Attributes de la base de datos de Fútbol Europeo, deben obtener el id,buildUpPlayDribblingClass y buildUpPlaySpeedClass de los equipos que tengan los siguientes atributos:\n",
        "\n",
        "buildUpPlayDribblingClass = 'Normal'\n",
        "buildUpPlaySpeedClass = 'Balanced'\n",
        "\n",
        "Para ello deberán escribir la consulta SQL entre un par de 3 comillas dobles: \"\"\"consulta SQL\"\"\" después de la palabra query =\n",
        "\n",
        "Una vez que estén lo tengan listo, ejecuten (haciendo clic en ejecutar o Shift+Enter) el códido de abajo"
      ]
    },
    {
      "cell_type": "code",
      "execution_count": null,
      "metadata": {
        "id": "amy_7SfKVKQ1"
      },
      "outputs": [],
      "source": [
        "query = \"\"\"SELECT id, buildUpPlayDribblingClass, buildUpPlaySpeedClass\n",
        "            FROM Team_Attributes WHERE buildUpPlayDribblingClass = 'Normal'AND buildUpPlaySpeedClass = 'Balanced'; \"\"\"\n",
        "team_att_or = pd.read_sql(query, conn)\n",
        "team_att_or"
      ]
    },
    {
      "cell_type": "markdown",
      "metadata": {
        "id": "guh1MOfVaoki"
      },
      "source": [
        "6.3.3 Práctica:\n",
        "Traer la tabla de países sin Bélgica\n",
        "\n",
        "Deben filtrar la tabla de países y traerla sin Belgium. La tabla de resultados deberá contener los campos id y name de la tabla Country de la base de datos de Fútbol Europeo.\n",
        "\n",
        "Para ello deberán escribir la consulta SQL entre un par de 3 comillas dobles: \"\"\"consulta SQL\"\"\" después de la palabra query =\n",
        "\n",
        "Una vez que estén lo tengan listo, ejecuten (haciendo clic en ejecutar o Shift+Enter) el códido de abajo"
      ]
    },
    {
      "cell_type": "code",
      "execution_count": null,
      "metadata": {
        "id": "wmhD3Wi9at8H"
      },
      "outputs": [],
      "source": [
        "# Mostrar todos los paises de la BD de Futbol europeo excepto Belgica\n",
        "query = \"\"\" SELECT id, name\n",
        "\n",
        "            FROM country WHERE NOT name= 'Belgium'; \"\"\"\n",
        "countries_not = pd.read_sql(query, conn)\n",
        "countries_not"
      ]
    },
    {
      "cell_type": "markdown",
      "metadata": {
        "id": "d-ika5owzDmJ"
      },
      "source": [
        "6.4 Otros operadores que trabajan con la sentencia WHERE\n",
        "\n",
        "Los siguientes operadores también pueden ser utilizados en la sentencia WHERE:\n",
        "\n",
        "| = | Igual\n",
        "\n",
        "| > | Mayor que\n",
        "\n",
        "| < | Menor que\n",
        "\n",
        "| >= | Mayor o igual que\n",
        "\n",
        "| <= | Menor o igual que\n",
        "\n",
        "| <> | No igual. Nota: En algunas versiones de SQL este operador puede ser escrito como !=\n",
        "\n",
        "| BETWEEN | Entre cierto rango\n",
        "\n",
        "| LIKE | Para consultar los datos basados en información parcial, se utiliza el operador LIKE en la sentencia WHERE. Busca un patrón. El patrón va antes, después o entre un par de % (wildcard). Ejemplo: LIKE 's%' busca cualquier texto que comience con 's'. LIKE '%er' busca cualquier texto que termine con 'er'. Y LIKE '%per%' busca cualquier texto que contenga 'per'.\n",
        "\n",
        "| IN | Para especificar varios valores posibles para una columna o subquery. Ejemplo de sintaxis cuando se especifica varios valores:\n",
        "\n",
        "SELECT column1\n",
        "FROM Table_name\n",
        "WHERE column1 IN (value1, value2);.\n",
        "\n",
        "Ejemplo se sintaxis cuando se usa IN en una subquery:\n",
        "\n",
        "SELECT TrackId, Name, AlbumId\n",
        "FROM Tracks\n",
        "WHERE AlbumId IN\n",
        "    (SELECT AlbumId\n",
        "    FROM Albums\n",
        "    WHERE ArtistId = 12);."
      ]
    },
    {
      "cell_type": "markdown",
      "metadata": {
        "id": "9yrjDmDs0QLj"
      },
      "source": [
        "6.4.1 Práctica:\n",
        "Traer la tabla de países únicamente con Italia\n",
        "\n",
        "Deben filtrar la tabla de países y traer únicamente a Italy. La tabla de resultados deberá contener los campos id y name de la tabla Country de la base de datos de Fútbol Europeo.\n",
        "\n",
        "Para ello deberán escribir la consulta SQL entre un par de 3 comillas dobles: \"\"\"consulta SQL\"\"\" después de la palabra query =\n",
        "\n",
        "Una vez que estén lo tengan listo, ejecuten (haciendo clic en ejecutar o Shift+Enter) el códido de abajo"
      ]
    },
    {
      "cell_type": "code",
      "execution_count": null,
      "metadata": {
        "id": "BsgBBeQUbZvz"
      },
      "outputs": [],
      "source": [
        "#Muestra solamente el id y nombre de Italia\n",
        "query = \"\"\"SELECT id, name\n",
        "        FROM Country WHERE name = 'Italy'; \"\"\"\n",
        "countries_not = pd.read_sql(query,conn)\n",
        "countries_not"
      ]
    },
    {
      "cell_type": "markdown",
      "metadata": {
        "id": "INJ4WGI6dFHm"
      },
      "source": [
        "6.4.2 Práctica:\n",
        "\n",
        "Traer la tabla de países sin Polonia¶\n",
        "Deben traer la tabla de países sin Poland. La tabla de resultados deberá contener los campos id y name de la tabla Country de la base de datos de Fútbol Europeo. No se debe utilizar NOT.\n",
        "\n",
        "Para ello deberán escribir la consulta SQL entre un par de 3 comillas dobles: \"\"\"consulta SQL\"\"\" después de la palabra query =\n",
        "\n",
        "Una vez que estén lo tengan listo, ejecuten (haciendo clic en ejecutar o Shift+Enter) el códido de abajo"
      ]
    },
    {
      "cell_type": "code",
      "execution_count": null,
      "metadata": {
        "id": "uAQ5KT55dNVY"
      },
      "outputs": [],
      "source": [
        "query = \"\"\" SELECT name As country\n",
        "            FROM country WHERE country <> 'Polonia';\"\"\"\n",
        "country_not= pd.read_sql(query, conn)\n",
        "country_not\n",
        "# Hay 11 paises diferentes a Polonia en la liga de futbol europeo"
      ]
    },
    {
      "cell_type": "markdown",
      "metadata": {
        "id": "74s_5vme80Ib"
      },
      "source": [
        "6.4.3 Práctica:\n",
        "\n",
        "Listar los jugadores que pesen entre 174 y 176 libras\n",
        "Queremos listar a los jugadores que cumplan con la condición de pesar entre 174 y 176 libras. En la tabla de resultados quiero ver los campos id,player_name, birthday, height y weight de los que cumplen la condición. Todos se encuentran en la tabla Player. Asimismo, debemos limitar la consulta a 30 registros.\n",
        "\n",
        "Para ello deberán escribir la consulta SQL entre un par de 3 comillas dobles: \"\"\"consulta SQL\"\"\" después de la palabra query =\n",
        "\n",
        "Una vez que estén lo tengan listo, ejecuten (haciendo clic en ejecutar o Shift+Enter) el códido de abajo"
      ]
    },
    {
      "cell_type": "code",
      "execution_count": null,
      "metadata": {
        "id": "5istTW8SDelB"
      },
      "outputs": [],
      "source": [
        "query = \"\"\" SELECT id,player_name, birthday, height, weight\n",
        "            FROM player WHERE weight BETWEEN 174 AND 176; \"\"\"\n",
        "players_weightweight = pd.read_sql(query, conn)\n",
        "players_weight\n",
        "# listar los el id, nombre, fecha de nacimiento, altura y peso de 30 jugadores que pesan 174 y 176 libras."
      ]
    },
    {
      "cell_type": "markdown",
      "metadata": {
        "id": "8PjPT7XPMb8X"
      },
      "source": [
        "6.4.4 Práctica:\n",
        "Listar a los Messi de la base de datos de jugadores\n",
        "\n",
        "Queremos listar a los jugadores que cumplan con la condición de tener la palabra 'Messi' en su nombre. En la tabla de resultados quiero ver los campos id,player_name, birthday, height y weight de los que cumplen la condición. Todos se encuentran en la tabla Player.\n",
        "\n",
        "Para ello deberán escribir la consulta SQL entre un par de 3 comillas dobles: \"\"\"consulta SQL\"\"\" después de la palabra query =\n",
        "\n",
        "Una vez que estén lo tengan listo, ejecuten (haciendo clic en ejecutar o Shift+Enter) el códido de abajo"
      ]
    },
    {
      "cell_type": "code",
      "execution_count": null,
      "metadata": {
        "id": "6inpv5hSGGdg"
      },
      "outputs": [],
      "source": [
        "query = \"\"\" SELECT id, player_name, birthday, height, weight\n",
        "            FROM player WHERE player_name LIKE \"%Messi%\"; \"\"\"\n",
        "player_messi = pd.read_sql(query, conn)\n",
        "player_messi\n",
        "# Mostrar el id, nombre, fecha cde nacimiento, altura y peso del jugador Messi"
      ]
    },
    {
      "cell_type": "markdown",
      "metadata": {
        "id": "LuZSn5j_sZff"
      },
      "source": [
        "Alias AS\n",
        "\n",
        "Los alias en SQL se utilizan para dar a una tabla o a una columna, un nombre temporal. Se utilizan a menudo para hacer más legibles los nombres de las columnas. Un alias sólo existe durante la duración de la consulta.\n",
        "\n",
        "Sintaxis de AS:\n",
        "\n",
        "SELECT column_name AS alias_name\n",
        "\n",
        "FROM table_name AS other_alias;"
      ]
    },
    {
      "cell_type": "markdown",
      "metadata": {
        "id": "a_7mM0ZasnhK"
      },
      "source": [
        "7. Sentencia ORDER BY\n",
        "\n",
        "La sentencia ORDER BY se utiliza para ordenar el conjunto de resultados en orden ascendente o descendente. Por defecto, los registros se ordenan en orden ascendente ASC. Para ordenar los registros en orden descendente, utilice la palabra DESC.\n",
        "\n",
        "Sintaxis de ORDER BY\n",
        "\n",
        "SELECT column1, column2, ...\n",
        "\n",
        "FROM table_name\n",
        "\n",
        "WHERE condition\n",
        "\n",
        "ORDER BY column2 ASC|DESC;"
      ]
    },
    {
      "cell_type": "markdown",
      "metadata": {
        "id": "ZaLYfVWtstxB"
      },
      "source": [
        "7.1.1 Ejemplo: Listar a los equipos y ordenarlos por nombre\n",
        "\n",
        "Queremos listar a los equipos de la tabla Team y ordenarlos ascedentemente por nombre team_long_name. Adicionalmente, vamos a limitar la lista a 25 registros.\n",
        "\n",
        "Ejecuta (haciendo clic en ejecutar o Shift+Enter) el códido de abajo"
      ]
    },
    {
      "cell_type": "code",
      "execution_count": null,
      "metadata": {
        "id": "IHueCwm-66wl"
      },
      "outputs": [],
      "source": [
        "query = \"\"\"SELECT id, team_long_name AS team_name\n",
        "            FROM Team ORDER BY team_long_name ASC LIMIT 25; \"\"\"\n",
        "teams_orderby = pd.read_sql(query, conn)\n",
        "teams_orderby\n",
        "# Muestra los 25 primeros nombres de equipos ordenados por nombre en orden ascendente."
      ]
    },
    {
      "cell_type": "markdown",
      "metadata": {
        "id": "dpyh0HIVSMbw"
      },
      "source": [
        "7.1.2 Práctica: Listar la tabla de países en orden descendente\n",
        "\n",
        "Deben listar la tabla Country de forma descendente DESC por el campos name. La tabla de resultados deberá contener los campos id y name.\n",
        "\n",
        "Para ello deberán escribir la consulta SQL entre un par de 3 comillas dobles: \"\"\"consulta SQL\"\"\" después de la palabra query =\n",
        "\n",
        "Una vez que estén lo tengan listo, ejecuten (haciendo clic en ejecutar o Shift+Enter) el códido de abajo"
      ]
    },
    {
      "cell_type": "code",
      "execution_count": null,
      "metadata": {
        "id": "kiCGbWXYSWPD"
      },
      "outputs": [],
      "source": [
        "query =  \"\"\" SELECT id, name\n",
        "             FROM country ORDER BY name DESC; \"\"\"\n",
        "teams_orderdesc = pd.read_sql(query, conn)\n",
        "teams_orderdesc\n",
        "# Mostrar la tabla Country de forma descendente DESC por el campos name."
      ]
    },
    {
      "cell_type": "markdown",
      "metadata": {
        "id": "D5031VBrTs18"
      },
      "source": [
        "7.1.3 Práctica:\n",
        "Listar el id de los 15 jugadores con menos peso\n",
        "\n",
        "Deben listar la tabla Player de forma ascendente ASC por el campo weight. La tabla de resultados deberá contener los campos id, player_name y weight.\n",
        "\n",
        "Para ello deberán escribir la consulta SQL entre un par de 3 comillas dobles: \"\"\"consulta SQL\"\"\" después de la palabra query =\n",
        "\n",
        "Una vez que estén lo tengan listo, ejecuten (haciendo clic en ejecutar o Shift+Enter) el códido de abajo"
      ]
    },
    {
      "cell_type": "code",
      "execution_count": null,
      "metadata": {
        "id": "9zfEvNlPUnj-"
      },
      "outputs": [],
      "source": [
        "query = \"\"\"SELECT id, player_name, weight\n",
        "           FROM player ORDER BY weight ASC LIMIT 15; \"\"\"\n",
        "player_weightasc = pd.read_sql(query, conn)\n",
        "player_weightasc\n",
        "# listar la tabla Player de forma ascendente por el campo weight."
      ]
    },
    {
      "cell_type": "markdown",
      "metadata": {
        "id": "JfeUdIyLawhT"
      },
      "source": [
        "7.1.4 Práctica: Listar el id de los 10 jugadores con mayor estatura\n",
        "\n",
        "Deben listar la tabla Player de forma descendente DESC por el campos height. La tabla de resultados deberá contener los campos id, player_name y height.\n",
        "\n",
        "Para ello deberán escribir la consulta SQL entre un par de 3 comillas dobles: \"\"\"consulta SQL\"\"\" después de la palabra query =\n",
        "\n",
        "Una vez que estén lo tengan listo, ejecuten (haciendo clic en ejecutar o Shift+Enter) el códido de abajo"
      ]
    },
    {
      "cell_type": "code",
      "execution_count": null,
      "metadata": {
        "id": "U4IX3G8Ca1_W"
      },
      "outputs": [],
      "source": [
        "query = \"\"\"SELECT id, player_name, height\n",
        "           FROM player ORDER BY height DESC LIMIT 10; \"\"\"\n",
        "player_heightdesc = pd.read_sql(query, conn)\n",
        "player_heightdesc\n",
        "# Muestra la maxima estatura de 10 jugadores, el id ordenados por el campo height."
      ]
    },
    {
      "cell_type": "markdown",
      "metadata": {
        "id": "B0g637P_eClj"
      },
      "source": [
        "7.1.5 Práctica: Listar el id de los 10 jugadores con mayor estatura y ordenarlos alfabéticamente pero de forma descendente\n",
        "\n",
        "Deben listar la tabla Player de forma descendente DESC por el campos height y player_name. La tabla de resultados deberá contener los campos id, player_name y height.\n",
        "\n"
      ]
    },
    {
      "cell_type": "code",
      "execution_count": null,
      "metadata": {
        "id": "Qf4ar-xmeIsv"
      },
      "outputs": [],
      "source": [
        "query = \"\"\"SELECT id, player_name, height\n",
        "          FROM player ORDER BY height, player_name LIMIT 10; \"\"\"\n",
        "player_height_name = pd.read_sql(query, conn)\n",
        "player_height_name\n",
        "# Muestra los 10 nombres de jugadores mas altos."
      ]
    },
    {
      "cell_type": "markdown",
      "metadata": {
        "id": "T-4bXvNsjgts"
      },
      "source": [
        "8. Sentencia GROUP BY\n",
        "\n",
        "La sentencia GROUP BY agrupa las filas que tienen los mismos valores en filas de resumen, como \"encontrar el número de clientes en cada país\". Se utiliza sobre dimensiones y métricas para agrupar el conjunto de resultados en una o más columnas.\n",
        "\n",
        "Las dimensiones son todos aquellos valores que estamos describiendo en el SELECT. Y las métricas son que se utilizan a menudo con funciones agregativas (COUNT, MAX, MIN, SUM, AVG).\n",
        "\n",
        "Sintaxis de GROUP BY;\n",
        "\n",
        "SELECT column1, column2, ...\n",
        "\n",
        "FROM table_name\n",
        "\n",
        "WHERE condition\n",
        "\n",
        "GROUP BY column1\n",
        "\n",
        "ORDER BY column2 ASC|DESC;\n",
        "\n",
        "Nota: El uso de WHERE antes de GROUP BY hace que este se ejecute más rápido, ya que el motor de base de datos no se tomará el tiempo de agrupar cosas que no necesita.\n",
        "\n",
        "Nota2: Es muy importante utilizar las mismas dimensiones tanto en el SELECT, como en el GROUP BY. De lo contrario, la salida podría ser errónea."
      ]
    },
    {
      "cell_type": "markdown",
      "metadata": {
        "id": "7NNUTygDpCsr"
      },
      "source": [
        "8.1.1 Ejemplo: Queremos conocer cuántos equipos tienen cada tipo de velocidad de juego\n",
        "\n",
        "Queremos conocer cuántos equipos de la tabla Team_Attributes tienen cada tipo de velocidad juego. Es decir: cuántos tienen buildUpPlaySpeedClass = 'Fast', buildUpPlaySpeedClass = 'Balanced' y cuántos buildUpPlaySpeedClass = 'Slow'\n",
        "\n"
      ]
    },
    {
      "cell_type": "code",
      "execution_count": null,
      "metadata": {
        "id": "PG8AeMd59urH"
      },
      "outputs": [],
      "source": [
        "query = \"\"\"SELECT COUNT(buildUpPlaySpeedClass)AS PlaySpeedClass\n",
        "           FROM team_attributes\n",
        "           GROUP BY buildUpPlaySpeedClass ; \"\"\"\n",
        "teams_speed = pd.read_sql(query, conn)\n",
        "teams_speed\n",
        "# Muestra las diferentes velocidades de juego de los equipos"
      ]
    },
    {
      "cell_type": "code",
      "execution_count": null,
      "metadata": {
        "id": "oAurg8P1pLTU"
      },
      "outputs": [],
      "source": [
        "query = \"\"\"SELECT COUNT(buildUpPlaySpeedClass)AS PlaySpeedClass\n",
        "           FROM team_attributes\n",
        "           GROUP BY buildUpPlaySpeedClass LIKE '%fast%',buildUpPlaySpeedClass\n",
        "           LIKE '%balanced%',buildUpPlaySpeedClass LIKE 'slow'; \"\"\"\n",
        "teams_speed = pd.read_sql(query, conn)\n",
        "teams_speed\n",
        "# muestra que 102 equipos tienen velocidad de juego fast, 1184 equipos tienen velocidad balanced y\n",
        "#172 equipos tienen velocidad slow"
      ]
    },
    {
      "cell_type": "code",
      "execution_count": null,
      "metadata": {
        "id": "uw1XcfjFrgF5"
      },
      "outputs": [],
      "source": [
        "query = \"\"\"SELECT COUNT(buildUpPlaySpeedClass) AS play_speedclass\n",
        "           FROM team_attributes ; \"\"\"\n",
        "teams_speed = pd.read_sql(query, conn)\n",
        "teams_speed\n",
        "# 1458 equipos tienen diferentes tipos de velocidades"
      ]
    },
    {
      "cell_type": "markdown",
      "metadata": {
        "id": "15fMSwP0MnXK"
      },
      "source": [
        "8.1.2 Práctica: Queremos conocer cuántos equipos tienen cada clase de juego defensivo\n",
        "\n",
        "Queremos conocer cuantos equipos de la tabla Team_Attributes que tienen cada clase de juego defensivo. Es decir: cuántos defencePressureClass = 'Medium', defencePressureClass = 'Deep' y defencePressureClass = 'High'.\n",
        "\n",
        "P"
      ]
    },
    {
      "cell_type": "code",
      "execution_count": null,
      "metadata": {
        "id": "BllUa8fSVgtb"
      },
      "outputs": [],
      "source": [
        "query = \"\"\"SELECT COUNT(defencePressureClass)AS defenseClass\n",
        "           FROM team_attributes\n",
        "           GROUP BY defencePressureClass LIKE '%Deep%',\n",
        "           defencePressureClass LIKE '%Medium%',\n",
        "           defencePressureClass LIKE '%High%'; \"\"\"\n",
        "defence_pressureClass = pd.read_sql(query, conn)\n",
        "defence_pressureClass\n",
        "# 1243 equipos tienen una presion de defensa media, 154 equipos tienen una presion defensa profunda\n",
        "#y 61 equipos tienen una presion de defensa alta"
      ]
    },
    {
      "cell_type": "markdown",
      "metadata": {
        "id": "7R9i53ZoguD4"
      },
      "source": [
        "9. Sentencias JOIN\n",
        "\n",
        "JOIN se usa cuando se quiere conectar dos tablas entre sí. Funciona cuando tienes una clave común en cada una de ellas. Entender el concepto de Claves es crucial para conectar (unir) conjuntos de datos (tablas).\n",
        "\n",
        "Recuerden: Una clave es un valor que podemos usar para referirnos a una fila o registro específico de una tabla. Puede consistir en un valor (celda) que generalmente es un ID, o de una combinación de valores que son únicos en la tabla (clave compuesta).\n",
        "\n",
        "Sintaxis de JOIN;\n",
        "\n",
        "SELECT first_table.column1, firts_table.column2, second_table.columnA, second_table.columnB ...\n",
        "\n",
        "FROM first_table (LEFT | RIGHT | FULL) JOIN second_table ON first_table.columnID = second_table.columnID;"
      ]
    },
    {
      "cell_type": "markdown",
      "metadata": {
        "id": "flJZGffwg7QC"
      },
      "source": [
        "9.1 Tipos de JOIN\n",
        "\n",
        "JOIN: mantiene sólo los registros que coinciden con la condición (después del ON) en ambas tablas, y los registros de ambas tablas que no coincidan, no aparecerían en la tabla de resultado.\n",
        "\n",
        "LEFT JOIN: devuelve todos los registros de la primera tabla (izquierda), y los registros coincidentes de la segunda tabla (derecha). El resultado es NULL del lado derecho, si no hay coincidencia.\n",
        "\n",
        "RIGHT JOIN: devuelve todos los registros de la segunda tabla (derecha), y los registros coincidentes de la primera tabla (izquierda). El resultado es NULL del lado izquierdo, si no hay coincidencia.\n",
        "\n",
        "FULL JOIN: devuelve todos los registros cuando hay una coincidencia en los registros de la primera tabla (izquierda) o segunda tabla (derecha). Nota:\n",
        "\n",
        "FULL JOIN puede potencialmente devolver conjuntos de resultados MUY grandes.\n",
        "\n",
        "image.png\n",
        "\n",
        "Cuando se quiere unir diferentes tablas, es necesario que pienses en lo siguiente:\n",
        "\n",
        "Decidir qué tipo de unión usar. Las más comunes son: JOIN y LEFT JOIN.\n",
        "Especificar el valor común que se utiliza para conectar las tablas (la clave).\n",
        "Asegurarse de que al menos uno de los valores tiene que ser una clave en su tabla.\n",
        "Y por último, ¡Paciencia! Usar los JOIN de forma incorrecta, es el error más común (y a veces peligroso) cuando se escriben consultas complicadas.\n",
        "\n"
      ]
    },
    {
      "cell_type": "markdown",
      "metadata": {
        "id": "lTzgfMfDhiYh"
      },
      "source": [
        "9.2.1 Ejemplo: Lista de ligas y su país\n",
        "\n",
        "Queremos conocer a qué país corresponde cada liga. Para hacerlo, vamos a necesitar la información de las tablas Countryy League, uniendolas por su clave en común: Country.id = League.country_id.\n",
        "\n"
      ]
    },
    {
      "cell_type": "code",
      "execution_count": null,
      "metadata": {
        "id": "Eahr6ALNywBL"
      },
      "outputs": [],
      "source": [
        "# Queremos conocer a que pais corresponde cada liga\n",
        "query = \"\"\"SELECT L.id AS Id_Liga, L.name AS Nombre_Liga, C.name AS Pais\n",
        "        FROM Country AS C\n",
        "        JOIN League AS L ON C.id = L.country_id;\"\"\"\n",
        "\n",
        "country_leagues = pd.read_sql(query, conn)\n",
        "country_leagues\n",
        "# Lista los id y nombres de las ligas con su correspondiente pais."
      ]
    },
    {
      "cell_type": "code",
      "execution_count": null,
      "metadata": {
        "id": "mxQ_PI4oMd5J"
      },
      "outputs": [],
      "source": [
        "# Queremos conocer a que pais corresponde cada liga\n",
        "query = \"\"\"SELECT L.id AS Id_Liga, L.name AS Nombre_Liga, C.name AS Pais\n",
        "        FROM League AS L\n",
        "        JOIN Country AS C ON C.id = L.country_id;\"\"\"\n",
        "\n",
        "country_leagues = pd.read_sql(query, conn)\n",
        "country_leagues\n",
        "# Lista los id y nombres de las ligas con su correspondiente pais."
      ]
    },
    {
      "cell_type": "markdown",
      "metadata": {
        "id": "uSym3Hmkht7P"
      },
      "source": [
        "9.2.2 Práctica: Comparación de cantidad de partidos jugados en cierta temporada de España y Bélgica\n",
        "\n",
        "Queremos realizar una comparación de la cantidad de partidos jugados en season = '2008/2009' entre los países 'Spain' y 'Belgium'. Los datos necesarios se encuentran en las **tablas Match y Country.** Asimismo, la tabla de resultados debe visualizarse de la siguiente manera:\n",
        "\n",
        "**la columna con el nombre del país debe llamarse country_name\n",
        "la columna con el conteo de partidos debe llamarse count_matches**\n",
        "debemos visualizar al país con más partidos jugados en primer lugar\n"
      ]
    },
    {
      "cell_type": "markdown",
      "source": [
        "En esta consulta, la condición WHERE se agrupa de manera explícita con paréntesis, lo que cambia el orden de evaluación. Primero se evalúa la condición dentro de los paréntesis, y luego se combina con la condición de la temporada. Por lo tanto, se agrupa de la siguiente manera:\n",
        "m.season = '2008/2009' AND (c.name = 'Spain' OR c.name = 'Belgium')\n",
        "sto significa que se seleccionarán las filas donde la temporada sea '2008/2009' y el nombre del país sea 'Spain' o 'Belgium'. Esto asegura que solo se seleccionarán filas que pertenezcan a la temporada especificada y que estén en España o Bélgica.\n"
      ],
      "metadata": {
        "id": "5E2bsyJG1YIH"
      }
    },
    {
      "cell_type": "code",
      "execution_count": null,
      "metadata": {
        "id": "l6YWz4BapvXy"
      },
      "outputs": [],
      "source": [
        "query = \"\"\" SELECT c.name AS country_name,\n",
        "            COUNT(m.id) AS count_matches\n",
        "            FROM Match m\n",
        "            JOIN Country c ON m.country_id = c.id\n",
        "            WHERE m.season = '2008/2009'\n",
        "            AND (c.name = 'Spain' OR c.name = 'Belgium')\n",
        "            GROUP BY c.name\n",
        "            ORDER BY count_matches DESC; \"\"\"\n",
        "country_matches = pd.read_sql(query, conn)\n",
        "country_matches\n"
      ]
    },
    {
      "cell_type": "markdown",
      "source": [
        "En esta consulta, la condición WHERE se evalúa de izquierda a derecha, y debido a que la precedencia de operadores AND es mayor que la de OR, la consulta se agrupa de la siguiente manera:\n",
        "\n",
        "(m.season = '2008/2009' AND c.name ='Spain') OR c.name = 'Belgium'\n",
        "Esto significa que se seleccionarán las filas donde la temporada sea '2008/2009' y el nombre del país sea 'Spain', y también las filas donde el nombre del país sea 'Belgium', sin importar la temporada. Esto puede no ser la intención deseada, ya que se pueden incluir filas de 'Belgium' que no pertenecen a la temporada especificada"
      ],
      "metadata": {
        "id": "ZI3L_thn11gd"
      }
    },
    {
      "cell_type": "code",
      "execution_count": null,
      "metadata": {
        "id": "8BSUoNtMiUf5"
      },
      "outputs": [],
      "source": [
        "query = \"\"\"SELECT country.name AS country_name, COUNT( match.country_id ) AS count_matches\n",
        "FROM country\n",
        "JOIN Match ON Country.id = match.country_id\n",
        "WHERE match.season = '2008/2009'AND country.name ='Spain' OR country.name = 'Belgium'\n",
        "GROUP BY country.name  ORDER BY count_matches DESC; \"\"\"\n",
        "\n",
        "country_matches = pd.read_sql(query, conn)\n",
        "country_matches"
      ]
    },
    {
      "cell_type": "markdown",
      "metadata": {
        "id": "a9KAz5xHb72Y"
      },
      "source": [
        "9.2.3 Práctica:\n",
        "\n",
        "Lista detallada de juegos\n",
        "\n",
        "Queremos un detalle de 10 juegos realizados en el país Spain, ordenado de forma ascendente por date.\n",
        "\n",
        "Lo que nos interesa ver es:\n",
        "\n",
        "el id del encuentro,\n",
        "el Country.name bajo alias country_name,\n",
        "el League.name bajo alias league_name,\n",
        "season,\n",
        "stage,\n",
        "date,\n",
        "el team_long_name del equipo local bajo alias home_team,\n",
        "el team_long_name del equipo visitante bajo alias away_team,\n",
        "home_team_goal y\n",
        "away_team_goal\n",
        "Esta información se encuentra repartida entre las tablas: Match, Country, League y Team. Teniendo en cuenta que las claves compartidas entre tablas son estas:\n",
        "\n",
        "Country.id = Match.country_id\n",
        "\n",
        "League.id = Match.league_id\n",
        "\n",
        "Team.team_api_id = Match.home_team_api_id\n",
        "\n",
        "Para ello deberán escribir la consulta SQL entre un par de 3 comillas dobles: \"\"\"consulta SQL\"\"\" después de la palabra query =\n",
        "\n",
        "Una vez que estén lo tengan listo, ejecuten (haciendo clic en ejecutar o Shift+Enter) el códido de abajo\n",
        "\n",
        "Algunas pistas o consejos para el ejercicio: En el ejercicio queremos mostrar sólo las columnas que nos interesan, así que en lugar de * usamos los nombres exactos. Algunas de las columnas tienen el mismo nombre (Ejemplo: Country.name,League.name), por lo que las renombramos usando AS.\n",
        "\n",
        "Esta consulta tiene algunos JOIN. La razón es que la base de datos utilizada está diseñada en una estructura de estrella. Es decir, tiene una tabla (Match) con todo el \"rendimiento del encuentro\" y métricas, pero sólo IDs como claves foráneas. Mientras que toda la información descriptiva se encuentra almacenada en otras tablas como: Country, League y Team.\n",
        "\n",
        "Tengan en cuenta que se puede realizar 2 JOIN con la tabla Team. Esto es un truco, ya que usamos la misma tabla pero básicamente traemos dos copias diferentes de ella, renombrandola con AS. Ejemplo: Team AS HomeTeam y Team AS AwayTeam. La razón es que se necesitaba traer información de goles sobre dos valores diferentes (home_team_api_id y away_team_api_id), y si unimos a la misma tabla, significaría que son iguales entre sí.\n",
        "\n",
        "También podrías utilizar LEFT JOIN sobre la tabla Team. Depende de si prefieres mantener los datos de los juegos en la tabla de resultados, incluso si uno de los equipos no aparece en la tabla Team.\n",
        "\n",
        "ORDER BY se podría usar para definir el orden de la tabla de resultados."
      ]
    },
    {
      "cell_type": "code",
      "execution_count": null,
      "metadata": {
        "id": "tQHWDiGQcJN3"
      },
      "outputs": [],
      "source": [
        "\n",
        "query = \"\"\" SELECT match.id, Country.name AS country_name, League.name AS league_name, season, stage, date,\n",
        "team_long_name AS home_team, team_long_name AS away_team, home_team_goal, away_team_goal\n",
        "FROM Match, Country, League, Team; \"\"\"\n",
        "\n",
        "#No modificar lo siguiente:\n",
        "detailed_matches = pd.read_sql(query, conn)\n",
        "detailed_matches"
      ]
    },
    {
      "cell_type": "markdown",
      "metadata": {
        "id": "5QXui3IboWe-"
      },
      "source": [
        "el id del encuentro, el Country.name bajo alias country_name, el League.name bajo alias league_name, season, stage, date, el team_long_name del equipo local bajo alias home_team, el team_long_name del equipo visitante bajo alias away_team, home_team_goal y away_team_goal Esta información se encuentra repartida entre las tablas: Match, Country, League y Team. Teniendo en cuenta que las claves compartidas entre tablas son estas:\n",
        "\n",
        "Country.id = Match.country_id\n",
        "\n",
        "League.id = Match.league_id\n",
        "\n",
        "Team.team_api_id = Match.home_team_api_id"
      ]
    }
  ],
  "metadata": {
    "colab": {
      "provenance": [],
      "mount_file_id": "1Ycld9M9yIED3JyF8MnOmYHAhU4-3ByP2",
      "authorship_tag": "ABX9TyP1On6JrrNmCvAEnmDMtVDO",
      "include_colab_link": true
    },
    "kernelspec": {
      "display_name": "Python 3",
      "name": "python3"
    },
    "language_info": {
      "name": "python"
    }
  },
  "nbformat": 4,
  "nbformat_minor": 0
}