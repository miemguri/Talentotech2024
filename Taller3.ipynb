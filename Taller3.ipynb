{
  "nbformat": 4,
  "nbformat_minor": 0,
  "metadata": {
    "colab": {
      "provenance": [],
      "mount_file_id": "1DjONoj5saxMPr1IBplADTjFwyXYyFBRU",
      "authorship_tag": "ABX9TyNCObsSxVgQ3L954oWT69Bq",
      "include_colab_link": true
    },
    "kernelspec": {
      "name": "python3",
      "display_name": "Python 3"
    },
    "language_info": {
      "name": "python"
    }
  },
  "cells": [
    {
      "cell_type": "markdown",
      "metadata": {
        "id": "view-in-github",
        "colab_type": "text"
      },
      "source": [
        "<a href=\"https://colab.research.google.com/github/miemguri/Talentotech2024/blob/main/Taller3.ipynb\" target=\"_parent\"><img src=\"https://colab.research.google.com/assets/colab-badge.svg\" alt=\"Open In Colab\"/></a>"
      ]
    },
    {
      "cell_type": "code",
      "source": [
        "path ='/content/drive/MyDrive/Colab Notebooks/data/DB/'"
      ],
      "metadata": {
        "id": "0djfM9ZnR4LG"
      },
      "execution_count": 7,
      "outputs": []
    },
    {
      "cell_type": "code",
      "source": [
        "# Importacion de librerias\n",
        "import pandas as pd # librería de Python para manipulación de datos\n",
        "import sqlite3 #SQLite\n"
      ],
      "metadata": {
        "id": "cHGFDY8GngZM"
      },
      "execution_count": 8,
      "outputs": []
    },
    {
      "cell_type": "code",
      "source": [
        "database = path + 'database .sqlite'\n"
      ],
      "metadata": {
        "id": "bMzMzGAosBYT"
      },
      "execution_count": 9,
      "outputs": []
    },
    {
      "cell_type": "code",
      "source": [
        "#Creamos la conexión con la BD y listaremos las tablas con las que contamos\n",
        "conn = sqlite3.connect (database)\n",
        "print(\"Conexión exitosa\")\n"
      ],
      "metadata": {
        "colab": {
          "base_uri": "https://localhost:8080/"
        },
        "id": "KB1SAV9Rsizr",
        "outputId": "f374b524-76a9-40fc-ed70-6129a5427784"
      },
      "execution_count": 10,
      "outputs": [
        {
          "output_type": "stream",
          "name": "stdout",
          "text": [
            "Conexión exitosa\n"
          ]
        }
      ]
    },
    {
      "cell_type": "code",
      "source": [
        "query =  SELECT *\n",
        "           FROM Country;\n",
        "countries = pd.read_sql(query,conn)\n",
        "\n"
      ],
      "metadata": {
        "colab": {
          "base_uri": "https://localhost:8080/",
          "height": 111
        },
        "id": "jOsmKqqhtoJ5",
        "outputId": "22765cb2-ff11-469e-9816-4424d672d8b7"
      },
      "execution_count": 19,
      "outputs": [
        {
          "output_type": "error",
          "ename": "SyntaxError",
          "evalue": "invalid syntax (<ipython-input-19-3b0d504b5263>, line 1)",
          "traceback": [
            "\u001b[0;36m  File \u001b[0;32m\"<ipython-input-19-3b0d504b5263>\"\u001b[0;36m, line \u001b[0;32m1\u001b[0m\n\u001b[0;31m    query =  SELECT *\u001b[0m\n\u001b[0m                     ^\u001b[0m\n\u001b[0;31mSyntaxError\u001b[0m\u001b[0;31m:\u001b[0m invalid syntax\n"
          ]
        }
      ]
    }
  ]
}